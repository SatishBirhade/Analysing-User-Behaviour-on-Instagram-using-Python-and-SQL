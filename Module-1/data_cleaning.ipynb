{
  "nbformat": 4,
  "nbformat_minor": 0,
  "metadata": {
    "colab": {
      "provenance": []
    },
    "kernelspec": {
      "name": "python3",
      "display_name": "Python 3"
    },
    "language_info": {
      "name": "python"
    }
  },
  "cells": [
    {
      "cell_type": "markdown",
      "source": [
        "# ***Data Cleaning for Comments:***\n",
        "\n",
        "**Removing Unwanted Columns and Renaming Appropriate Columns for Improved Analysis**\n",
        "\n",
        "Data Cleaning for Comments is a process of removing unwanted columns and renaming the appropriate columns in a dataset containing comments. It involves identifying and removing irrelevant or redundant columns and renaming the columns to make them more descriptive and consistent with the content of the dataset. This improves the quality and usability of the data for analysis and modeling purposes.\n",
        "\n"
      ],
      "metadata": {
        "id": "rpO1j4Shv7Y2"
      }
    },
    {
      "cell_type": "markdown",
      "source": [
        "# **TASK 1**\n",
        "\n",
        "**How to finish the current Task?**\n",
        "\n",
        "To complete the current task, write your Python code in the \"data_cleaning()\" function in the \"comments.py\" file, and then click on \"Run Test\" to finish the task"
      ],
      "metadata": {
        "id": "eXT90Ts7wjpn"
      }
    },
    {
      "cell_type": "code",
      "execution_count": null,
      "metadata": {
        "id": "-HuuIK8yTBxk"
      },
      "outputs": [],
      "source": [
        "import pandas as pd\n",
        "import numpy as np\n",
        "import warnings\n",
        "warnings.filterwarnings(\"ignore\")\n",
        "\n",
        "def read_data_from_csv():\n",
        "    comments=pd.read_csv('comments.csv')\n",
        "    return comments\n",
        "\n",
        "\n",
        "def data_cleaning():\n",
        "    #DO NOT REMOVE FOLLOWING LINE\n",
        "    #call remove_unwanted_columns() function to get dataframe\n",
        "    comments_df=read_data_from_csv()\n",
        "    \n",
        "\n",
        "    #Remove Unwanted columns\n",
        "    \n",
        "    unwanted_columns = ['posted date','emoji used','Hashtags used count']\n",
        "    comments_df = comments_df.drop(columns=unwanted_columns)\n",
        "    \n",
        "    #rename columns, only these columns are allowed in the dataset\n",
        "    # 1.\tid\n",
        "    # 2.\tcomment_text\n",
        "    # 3.\tuser_id\n",
        "    # 4.\tphoto_id\n",
        "    # 5.\tcreated_at\n",
        "    column_names = {\n",
        "        'comment':'comment_text',\n",
        "        'User  id': 'user_id',\n",
        "        'Photo id' : 'photo_id',\n",
        "        'created Timestamp' : 'created_at'\n",
        "    }\n",
        "    \n",
        "    comments_df = comments_df.rename(columns=column_names)\n",
        "    \n",
        "    #export cleaned Dataset to newcsv file named \"comments_cleaned.csv\"\n",
        "    comments_df.to_csv('comments_cleaned.csv')\n",
        "    return comments_df\n",
        "\n",
        "\n",
        "#Do not Delete the Following function\n",
        "def task_runner():\n",
        "    data_cleaning()\n",
        "\n",
        "task_runner()"
      ]
    },
    {
      "cell_type": "markdown",
      "source": [
        "# **TASK 2**\n",
        "\n",
        "**How to finish the current Task?**\n",
        "\n",
        "To complete the current task, write your Python code in the \"data_cleaning()\" function in the \"follows.py\" file, and then click on \"Run Test\" to finish the task."
      ],
      "metadata": {
        "id": "mUhAzKp8wt1K"
      }
    },
    {
      "cell_type": "code",
      "source": [
        "import pandas as pd\n",
        "import numpy as np\n",
        "import warnings\n",
        "warnings.filterwarnings(\"ignore\")\n",
        "\n",
        "def read_data_from_csv():\n",
        "    follows=pd.read_csv('follows.csv')\n",
        "    return follows\n",
        "\n",
        "\n",
        "def data_cleaning():\n",
        "    #DO NOT REMOVE FOLLOWING LINE\n",
        "    #call remove_unwanted_columns() function to get dataframe\n",
        "    follows_df=read_data_from_csv()\n",
        "\n",
        "    #Remove Unwanted columns\n",
        "    unwanted_columns = ['is follower active','followee Acc status']\n",
        "    follows_df = follows_df.drop(columns=unwanted_columns)\n",
        "    \n",
        "    #rename columns, only these columns are allowed in the dataset\n",
        "    # 1.\tfollower_id\n",
        "    # 2.\tfollowee_id\n",
        "    # 3.\tcreated_at\n",
        "    \n",
        "    column_names = {\n",
        "        'follower':'follower_id',\n",
        "        'followee ':'followee_id',\n",
        "        'created time' : 'created_at'\n",
        "    }\n",
        "    \n",
        "    follows_df = follows_df.rename(columns=column_names)\n",
        "    \n",
        "    \n",
        "    #export cleaned Dataset to newcsv file named \"follows_cleaned.csv\"\n",
        "    follows_df.to_csv('follows_cleaned.csv')\n",
        "    return follows_df\n",
        "\n",
        "\n",
        "#Do not Delete the Following function\n",
        "def task_runner():\n",
        "    data_cleaning()\n",
        "\n",
        "task_runner()"
      ],
      "metadata": {
        "id": "_l-c5PdShLLb"
      },
      "execution_count": 2,
      "outputs": []
    },
    {
      "cell_type": "markdown",
      "source": [
        "# **TASK 3**\n",
        "\n",
        "**How to finish the current Task?**\n",
        "To complete the current task, write your Python code in the \"data_cleaning()\" function in the \"likes.py\" file, and then click on \"Run Test\" to finish the task."
      ],
      "metadata": {
        "id": "iJdnXJrZw4Gd"
      }
    },
    {
      "cell_type": "code",
      "source": [
        "import pandas as pd\n",
        "import numpy as np\n",
        "import warnings\n",
        "warnings.filterwarnings(\"ignore\")\n",
        "\n",
        "def read_data_from_csv():\n",
        "    likes=pd.read_csv('likes.csv')\n",
        "    return likes\n",
        "\n",
        "\n",
        "def data_cleaning():\n",
        "    #DO NOT REMOVE FOLLOWING LINE\n",
        "    #call remove_unwanted_columns() function to get dataframe\n",
        "    likes_df=read_data_from_csv()\n",
        "\n",
        "    #Remove Unwanted columns\n",
        "    unwanted_columns = ['following or not','like type']\n",
        "    likes_df = likes_df.drop(columns=unwanted_columns)\n",
        "    \n",
        "    #rename columns, only these columns are allowed in the dataset\n",
        "    # 1.\tuser_id\n",
        "    # 2.\tphoto_id\n",
        "    # 3.\tcreated_at\n",
        "    \n",
        "    column_names = {\n",
        "        'user ':'user_id',\n",
        "        'photo':'photo_id',\n",
        "        'created time' : 'created_at'\n",
        "    }\n",
        "    \n",
        "    likes_df = likes_df.rename(columns=column_names)\n",
        "    \n",
        "    #export cleaned Dataset to newcsv file named \"likes_cleaned.csv\"\n",
        "    likes_df.to_csv('likes_cleaned.csv')\n",
        "    return likes_df\n",
        "\n",
        "\n",
        "#Do not Delete the Following function\n",
        "def task_runner():\n",
        "    data_cleaning()\n",
        "\n",
        "task_runner()"
      ],
      "metadata": {
        "id": "LAQblOqYp42V"
      },
      "execution_count": null,
      "outputs": []
    },
    {
      "cell_type": "markdown",
      "source": [
        "# **TASK 4**\n",
        "\n",
        "**How to finish the current Task?**\n",
        "\n",
        "To complete the current task, write your Python code in the \"data_cleaning()\" function in the \"photo_tags.py\" file, and then click on \"Run Test\" to finish the task.\n",
        "\n"
      ],
      "metadata": {
        "id": "aoqf3E0CxKHS"
      }
    },
    {
      "cell_type": "code",
      "source": [
        "import pandas as pd\n",
        "import numpy as np\n",
        "import warnings\n",
        "warnings.filterwarnings(\"ignore\")\n",
        "\n",
        "def read_data_from_csv():\n",
        "    photo_tags=pd.read_csv('photo_tags.csv')\n",
        "    return photo_tags\n",
        "\n",
        "\n",
        "def data_cleaning():\n",
        "    #DO NOT REMOVE FOLLOWING LINE\n",
        "    #call remove_unwanted_columns() function to get dataframe\n",
        "    photo_tags_df=read_data_from_csv()\n",
        "\n",
        "    #Remove Unwanted columns\n",
        "    unwanted_columns = ['user id']\n",
        "    photo_tags_df = photo_tags_df.drop(columns=unwanted_columns)\n",
        "    \n",
        "    #rename columns, only these columns are allowed in the dataset\n",
        "    # 1.\tphoto_id\n",
        "    # 2.\ttag_id\n",
        "    \n",
        "    column_names = {\n",
        "        'photo':'photo_id',\n",
        "        'tag ID':'tag_id'\n",
        "    }\n",
        "    \n",
        "    photo_tags_df = photo_tags_df.rename(columns=column_names)\n",
        "    \n",
        "    #export cleaned Dataset to newcsv file named \"photo_tags_cleaned.csv\"\n",
        "    photo_tags_df.to_csv('photo_tags_cleaned.csv')\n",
        "    return photo_tags_df\n",
        "\n",
        "\n",
        "#Do not Delete the Following function\n",
        "def task_runner():\n",
        "    data_cleaning()\n",
        "\n",
        "task_runner()"
      ],
      "metadata": {
        "id": "xA76Db3xxBk-"
      },
      "execution_count": null,
      "outputs": []
    },
    {
      "cell_type": "markdown",
      "source": [
        "# **TASK 5**\n",
        "\n",
        "**How to finish the current Task?**\n",
        "\n",
        "To complete the current task, write your Python code in the \"data_cleaning()\" function in the \"photos.py\" file, and then click on \"Run Test\" to finish the task."
      ],
      "metadata": {
        "id": "nVWpG9aExUiT"
      }
    },
    {
      "cell_type": "code",
      "source": [
        "import pandas as pd\n",
        "import numpy as np\n",
        "import warnings\n",
        "warnings.filterwarnings(\"ignore\")\n",
        "\n",
        "def read_data_from_csv():\n",
        "    photos=pd.read_csv('photos.csv')\n",
        "    return photos\n",
        "\n",
        "\n",
        "def data_cleaning():\n",
        "    #DO NOT REMOVE FOLLOWING LINE\n",
        "    #call remove_unwanted_columns() function to get dataframe\n",
        "    photos=read_data_from_csv()\n",
        "\n",
        "    #Remove Unwanted columns\n",
        "    unwanted_columns = ['Insta filter used','photo type']\n",
        "    photos = photos.drop(columns=unwanted_columns)\n",
        "    \n",
        "    \n",
        "    #rename columns, only these columns are allowed in the dataset\n",
        "    # 1.\tid\n",
        "    # 2.\timage_url\n",
        "    # 3.\tuser_id\n",
        "    # 4.\tcreated_date\n",
        "    column_names = {\n",
        "        'image link':'image_url',\n",
        "        'user ID':'user_id',\n",
        "        'created dat':'created_date'\n",
        "    }\n",
        "    \n",
        "    photos = photos.rename(columns=column_names)\n",
        "    \n",
        "    #export cleaned Dataset to newcsv file named \"photos_cleaned.csv\"\n",
        "    photos.to_csv(\"photos_cleaned.csv\")\n",
        "    return photos\n",
        "\n",
        "\n",
        "#Do not Delete the Following function\n",
        "def task_runner():\n",
        "    data_cleaning()\n",
        "\n",
        "task_runner()"
      ],
      "metadata": {
        "id": "KS96_zXgxQ_A"
      },
      "execution_count": null,
      "outputs": []
    },
    {
      "cell_type": "markdown",
      "source": [
        "# **TASK 6**\n",
        "\n",
        "**How to finish the current Task?**\n",
        "\n",
        "To complete the current task, write your Python code in the \"data_cleaning()\" function in the \"tags.py\" file, and then click on \"Run Test\" to finish the task."
      ],
      "metadata": {
        "id": "-SaGzuoYxdj6"
      }
    },
    {
      "cell_type": "code",
      "source": [
        "import pandas as pd\n",
        "import numpy as np\n",
        "import warnings\n",
        "warnings.filterwarnings(\"ignore\")\n",
        "\n",
        "def read_data_from_csv():\n",
        "    tags=pd.read_csv('tags.csv')\n",
        "    return tags\n",
        "\n",
        "\n",
        "def data_cleaning():\n",
        "    #DO NOT REMOVE FOLLOWING LINE\n",
        "    #call remove_unwanted_columns() function to get dataframe\n",
        "    tags=read_data_from_csv()\n",
        "\n",
        "    #Remove Unwanted columns\n",
        "    unwanted_columns = ['location']\n",
        "    tags = tags.drop(columns=unwanted_columns)\n",
        "    \n",
        "    \n",
        "    #rename columns, only these columns are allowed in the dataset\n",
        "    # 1.\tid\n",
        "    # 2.\ttag_name\n",
        "    # 3.\tcreated_at\n",
        "    \n",
        "    column_names = {\n",
        "        'tag text':'tag_name',\n",
        "        'created time':'created_at'\n",
        "    }\n",
        "    \n",
        "    tags = tags.rename(columns=column_names)\n",
        "    \n",
        "    #export cleaned Dataset to newcsv file named \"tags_cleaned.csv\"\n",
        "    tags.to_csv('tags_cleaned.csv')\n",
        "    return tags\n",
        "\n",
        "\n",
        "#Do not Delete the Following function\n",
        "def task_runner():\n",
        "    data_cleaning()\n",
        "\n",
        "task_runner()"
      ],
      "metadata": {
        "id": "P5ZiFbMyxdhn"
      },
      "execution_count": null,
      "outputs": []
    },
    {
      "cell_type": "markdown",
      "source": [
        "# **TASK 7**\n",
        "\n",
        "**How to finish the current Task?**\n",
        "\n",
        "To complete the current task, write your Python code in the \"data_cleaning()\" function in the \"users.py\" file, and then click on \"Run Test\" to finish the task."
      ],
      "metadata": {
        "id": "srRfJYBtxpZN"
      }
    },
    {
      "cell_type": "code",
      "source": [
        "import pandas as pd\n",
        "import numpy as np\n",
        "import warnings\n",
        "from google.colab import files\n",
        "warnings.filterwarnings(\"ignore\")\n",
        "\n",
        "def read_data_from_csv():\n",
        "    users=pd.read_csv('users.csv')\n",
        "    return users\n",
        "\n",
        "\n",
        "def data_cleaning():\n",
        "    #DO NOT REMOVE FOLLOWING LINE\n",
        "    #call remove_unwanted_columns() function to get dataframe\n",
        "    users=read_data_from_csv()\n",
        "\n",
        "    #Remove Unwanted columns\n",
        "    unwanted_columns = ['private/public','post count','Verified status']\n",
        "    users = users.drop(columns=unwanted_columns)\n",
        "    \n",
        "    \n",
        "    #rename columns, only these columns are allowed in the dataset\n",
        "    # 1.\tid\n",
        "    # 2.\tusername\n",
        "    # 3.\tcreated_at\n",
        "    column_names = {\n",
        "        'name':'username',\n",
        "        'created time':'created_at'\n",
        "    }\n",
        "    \n",
        "    users = users.rename(columns=column_names)\n",
        "    \n",
        "    #export cleaned Dataset to newcsv file named \"users_cleaned.csv\"\n",
        "    users.to_csv('users_cleaned.csv')\n",
        "    return users\n",
        "\n",
        "\n",
        "#Do not Delete the Following function\n",
        "def task_runner():\n",
        "    data_cleaning()\n",
        "\n",
        "task_runner()"
      ],
      "metadata": {
        "id": "Moxbeei5xq2H"
      },
      "execution_count": null,
      "outputs": []
    }
  ]
}